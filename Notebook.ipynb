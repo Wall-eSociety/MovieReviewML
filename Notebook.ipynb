{
 "cells": [
  {
   "cell_type": "markdown",
   "metadata": {},
   "source": [
    "# Movie Review ML\n",
    "\n",
    "## Importações \n",
    "\n",
    "### Bibliotecas para cálculos com array \n",
    "Pacotes de biblioteca cientificas para calculos com arrays n-dimensionais e outras funções"
   ]
  },
  {
   "cell_type": "code",
   "execution_count": 2,
   "metadata": {},
   "outputs": [],
   "source": [
    "import os\n",
    "import pandas\n",
    "import numpy"
   ]
  },
  {
   "cell_type": "markdown",
   "metadata": {},
   "source": [
    "### Modelos\n",
    "\n",
    "Modelos de classificação linear, Naive Bayes e SVN como soluções mais utilizadas nas pesquisas que são simples e que atingem o objetivo de lidar com textos."
   ]
  },
  {
   "cell_type": "code",
   "execution_count": 3,
   "metadata": {},
   "outputs": [],
   "source": [
    "from sklearn.naive_bayes import GaussianNB, BernoulliNB, MultinomialNB\n",
    "from sklearn.svm import LinearSVC\n",
    "from sklearn.linear_model import SGDClassifier"
   ]
  },
  {
   "cell_type": "markdown",
   "metadata": {},
   "source": [
    "### Engenharia de características\n",
    "\n",
    "Foram utilizadas as bibliotecas TextBlob e Tfidf, sendo essa propria da Scikit learn "
   ]
  },
  {
   "cell_type": "code",
   "execution_count": 4,
   "metadata": {
    "scrolled": true
   },
   "outputs": [],
   "source": [
    "from dense_transform import DenseTransformer, tokenizer, tokenizer_correct\n",
    "from sklearn.feature_extraction.text import TfidfTransformer,  CountVectorizer, TfidfVectorizer"
   ]
  },
  {
   "cell_type": "markdown",
   "metadata": {},
   "source": [
    "## Gráficos\n",
    "\n",
    "Para a geração de gráficos foi utilizado o Matplot lib"
   ]
  },
  {
   "cell_type": "code",
   "execution_count": 5,
   "metadata": {},
   "outputs": [],
   "source": [
    "from matplotlib import pyplot"
   ]
  },
  {
   "cell_type": "markdown",
   "metadata": {},
   "source": [
    "### Validação de Modelo\n",
    "\n",
    "Foi utilizada a biblioteca sklearn"
   ]
  },
  {
   "cell_type": "code",
   "execution_count": 6,
   "metadata": {},
   "outputs": [],
   "source": [
    "from sklearn.model_selection import train_test_split\n",
    "from sklearn.model_selection import cross_validate\n",
    "from sklearn.model_selection import cross_val_score\n",
    "from sklearn.model_selection import GridSearchCV"
   ]
  },
  {
   "cell_type": "markdown",
   "metadata": {},
   "source": [
    "### Pipelines\n",
    "\n",
    "Processamento dos dados utilizando filtragem pelos metodos: gaussian, bernoulli, multinomial, Linear e SGDClassifier"
   ]
  },
  {
   "cell_type": "code",
   "execution_count": 7,
   "metadata": {},
   "outputs": [],
   "source": [
    "from sklearn.pipeline import Pipeline"
   ]
  },
  {
   "cell_type": "markdown",
   "metadata": {},
   "source": [
    "### Time\n",
    "\n",
    "Biblioteca para acesso ao tempo e conversões"
   ]
  },
  {
   "cell_type": "code",
   "execution_count": 8,
   "metadata": {},
   "outputs": [],
   "source": [
    "import time"
   ]
  },
  {
   "cell_type": "markdown",
   "metadata": {},
   "source": [
    "### Obtenção de Data\n",
    "\n",
    "Método utilizado para a obtenção dos dados que irão ser tratados"
   ]
  },
  {
   "cell_type": "code",
   "execution_count": 9,
   "metadata": {},
   "outputs": [
    {
     "name": "stdout",
     "output_type": "stream",
     "text": [
      "registers: 22\n",
      "Attention with 6000 registers it will consume about 5+GB of ram\n",
      "It took: 0.2001783847808838 to obtain data\n"
     ]
    }
   ],
   "source": [
    "def obtain_data():\n",
    "    t0 = time.time()\n",
    "    global paths_df\n",
    "    # Load dirs name\n",
    "    cur_dir = os.path.realpath('.')\n",
    "    pos_dir = os.path.join(cur_dir, 'train-pos')\n",
    "    neg_dir = os.path.join(cur_dir, 'train-neg')\n",
    "\n",
    "\n",
    "    # Load files names\n",
    "    list_pos_dir = [ (os.path.join(pos_dir, x), 1) for x in os.listdir(pos_dir)][:11]\n",
    "    list_neg_dir = [ (os.path.join(neg_dir, x), 0) for x in os.listdir(neg_dir)][:11]\n",
    "    print(\"registers: {}\".format(len(list_pos_dir+list_neg_dir)))\n",
    "    print(\"Attention with 6000 registers it will consume about 5+GB of ram\")\n",
    "    # input(\"Continue? or press CTRL+C\")\n",
    "\n",
    "    # Mount data with label data frame\n",
    "    paths_df = pandas.DataFrame(list_pos_dir+list_neg_dir, columns=['path', 'label'])\n",
    "\n",
    "    print(\"It took: \" + str(time.time() - t0) + \" to obtain data\")\n",
    "obtain_data()"
   ]
  },
  {
   "cell_type": "markdown",
   "metadata": {},
   "source": [
    "### Mostrar números de tokens\n",
    "\n",
    "Metodo utilizado para a obtenção do número de tokens da aplicação"
   ]
  },
  {
   "cell_type": "code",
   "execution_count": 10,
   "metadata": {},
   "outputs": [
    {
     "name": "stdout",
     "output_type": "stream",
     "text": [
      "                         len_of_features  difference\n",
      "tfidf_stem                          1136           0\n",
      "tfidf_word                          1424         288\n",
      "tfidf_stop                          1233          97\n",
      "tfidf_tokenizer_correct             1199          63\n",
      "It took: 240.0510654449463 to show number of tokens\n"
     ]
    }
   ],
   "source": [
    "def show_number_of_tokens():\n",
    "    t0 = time.time()\n",
    "    # Verify difference between size of tokens with tokenizer stem, stopwords\n",
    "    tfidf_stem = TfidfVectorizer(input='filename', stop_words='english', tokenizer=tokenizer)\n",
    "    tfidf_tokenizer_correct = TfidfVectorizer(input='filename', stop_words='english', tokenizer=tokenizer_correct)\n",
    "    tfidf_stem.fit(paths_df.path.values)\n",
    "    tfidf_stem.get_feature_names()\n",
    "    tfidf_stop = TfidfVectorizer(input='filename', stop_words='english')\n",
    "    tfidf_word = TfidfVectorizer(input='filename')\n",
    "\n",
    "\n",
    "    # Simple benchmark for number of features\n",
    "    result = []\n",
    "    for tfidf in [tfidf_stem, tfidf_word, tfidf_stop, tfidf_tokenizer_correct]:\n",
    "        tfidf.fit(paths_df.path.values)\n",
    "        result.append(len(tfidf.get_feature_names()))\n",
    "\n",
    "    result = pandas.DataFrame(result, columns=['len_of_features'], index=['tfidf_stem', 'tfidf_word', 'tfidf_stop', 'tfidf_tokenizer_correct'])\n",
    "    result = result.assign(difference=lambda x: (x.len_of_features - x.len_of_features.min()))\n",
    "    print(result)\n",
    "    pyplot.figure(1)\n",
    "    pyplot.bar([1,2,3,4], result.difference.values)\n",
    "    pyplot.xticks([1,2,3], result.index.values)\n",
    "    pyplot.ylabel('Number of tokens')\n",
    "    pyplot.xlabel('Method of tf-idf')\n",
    "    print(\"It took: \" + str(time.time() - t0) + \" to show number of tokens\")\n",
    "show_number_of_tokens()    "
   ]
  },
  {
   "cell_type": "markdown",
   "metadata": {},
   "source": [
    "### Criação de Pipelines\n",
    "\n",
    "Método para criação de pipelines para tratamento dos dados em etapas utilizando os metodos de gaussian, bernoulli, multinomial, Linear e SGDClassifier"
   ]
  },
  {
   "cell_type": "code",
   "execution_count": 11,
   "metadata": {},
   "outputs": [
    {
     "name": "stdout",
     "output_type": "stream",
     "text": [
      "It took: 0.001070261001586914 to create pipes\n"
     ]
    }
   ],
   "source": [
    "def create_pipes():\n",
    "    global pipes\n",
    "    t0 = time.time()\n",
    "    # Create pipes\n",
    "    pipes = {\n",
    "        'gaussianNB': Pipeline([\n",
    "          ('vect', TfidfVectorizer(input='filename')),\n",
    "          ('dense', DenseTransformer()),\n",
    "          ('gnb', GaussianNB())\n",
    "        ]),\n",
    "        'bernoulliNB': Pipeline([\n",
    "          ('vect', TfidfVectorizer(input='filename', binary=True)),\n",
    "          ('dense', DenseTransformer()),\n",
    "          ('gnb', BernoulliNB())\n",
    "        ]),\n",
    "        'multinomialNB': Pipeline([\n",
    "          ('vect', TfidfVectorizer(input='filename')),\n",
    "          ( 'gnb', MultinomialNB())\n",
    "        ]),\n",
    "        'linearSVC': Pipeline([\n",
    "          ('vect', TfidfVectorizer(input='filename')),\n",
    "          ( 'gnb', LinearSVC())\n",
    "        ]),\n",
    "        'sgdclassifier': Pipeline([\n",
    "          ('vect', TfidfVectorizer(input='filename')),\n",
    "          ( 'gnb', SGDClassifier(max_iter=5))\n",
    "        ]),\n",
    "    }\n",
    "    print(\"It took: \" + str(time.time() - t0) + \" to create pipes\")\n",
    "# Method to return params from pipe params adjusts\n",
    "create_pipes()"
   ]
  },
  {
   "cell_type": "markdown",
   "metadata": {},
   "source": [
    "### Extração de parâmetros\n",
    "\n",
    "Criação de um método que retorna parâmetros ajustados dos *pipes* "
   ]
  },
  {
   "cell_type": "code",
   "execution_count": 12,
   "metadata": {},
   "outputs": [],
   "source": [
    "def extract_params(best_params_):\n",
    "    return {'ngram_range': best_params_['vect__ngram_range'],\n",
    "      'use_idf': best_params_['vect__use_idf'],\n",
    "      'norm':  best_params_['vect__norm'],\n",
    "      'sublinear_tf': best_params_['vect__sublinear_tf'],\n",
    "      'stop_words': best_params_['vect__stop_words'],\n",
    "      'tokenizer': best_params_['vect__tokenizer']\n",
    "    }\n"
   ]
  },
  {
   "cell_type": "markdown",
   "metadata": {},
   "source": [
    "### Definição de parâmetros\n",
    "\n",
    "Método para definição de parâmetros para *pipeline* e verificação do tempo de processamento para definição destes parâmetros. "
   ]
  },
  {
   "cell_type": "code",
   "execution_count": 13,
   "metadata": {},
   "outputs": [
    {
     "name": "stdout",
     "output_type": "stream",
     "text": [
      "It took: 3.814697265625e-06 to define parameters\n"
     ]
    }
   ],
   "source": [
    "def define_params():\n",
    "    # Define params\n",
    "    t0 = time.time()\n",
    "    global parameters\n",
    "    parameters = {\n",
    "      'vect__ngram_range': [(1,1), (1,2)],\n",
    "      'vect__use_idf': (True, False),\n",
    "      'vect__norm':  ('l2', 'l1', None),\n",
    "      'vect__sublinear_tf': (True, False),\n",
    "      'vect__stop_words': ('english', None),\n",
    "      'vect__tokenizer': (None, tokenizer),\n",
    "    }\n",
    "    print(\"It took: \" + str(time.time() - t0) + \" to define parameters\")\n",
    "define_params()\n"
   ]
  },
  {
   "cell_type": "markdown",
   "metadata": {},
   "source": [
    "### Processamento de dados no *pipeline*\n",
    "\n",
    "Métodos de processamento da *pipeline*, onde cada processo de filtragem é feito o treinamento em sequência para tratamento dos melhores valores dentro da cadeia de funções presentes no *pipeline*. Em cada um dos métodos é verificado o tempo de processamento para validação da performance."
   ]
  },
  {
   "cell_type": "code",
   "execution_count": 14,
   "metadata": {},
   "outputs": [
    {
     "name": "stdout",
     "output_type": "stream",
     "text": [
      "0.727272727273 {'vect__norm': 'l2', 'vect__ngram_range': (1, 1), 'vect__stop_words': 'english', 'vect__sublinear_tf': True, 'vect__tokenizer': None, 'vect__use_idf': True}\n",
      "It took: 62.35296416282654 to run gaussian NB pipeline\n"
     ]
    }
   ],
   "source": [
    "def run_gaussian_NB_pipeline():\n",
    "    t0 = time.time()\n",
    "    # Initialize best parameters search\n",
    "    parametrized = GridSearchCV(pipes['gaussianNB'], parameters, n_jobs=3)\n",
    "    parametrized.fit(paths_df.path,paths_df.label)\n",
    "    print(parametrized.best_score_, parametrized.best_params_)\n",
    "\n",
    "    pipes['optimizedgaussianNB'] = Pipeline([\n",
    "          ('vect', TfidfVectorizer(input='filename', **extract_params(parametrized.best_params_))),\n",
    "          ('dense', DenseTransformer()),\n",
    "          ('gnb', GaussianNB())\n",
    "        ])\n",
    "    print(\"It took: \" + str(time.time() - t0) + \" to run gaussian NB pipeline\")\n",
    "run_gaussian_NB_pipeline()\n"
   ]
  },
  {
   "cell_type": "code",
   "execution_count": 15,
   "metadata": {},
   "outputs": [
    {
     "name": "stdout",
     "output_type": "stream",
     "text": [
      "0.545454545455 {'vect__norm': 'l2', 'vect__ngram_range': (1, 1), 'vect__stop_words': 'english', 'vect__sublinear_tf': True, 'vect__tokenizer': <function tokenizer at 0x7f90a4175bf8>, 'vect__use_idf': True}\n",
      "It took: 72.87842845916748 to run bernoulli NB pipeline\n"
     ]
    }
   ],
   "source": [
    "\n",
    "def run_bernoulli_NB_pipeline():\n",
    "    t0 = time.time()\n",
    "    parametrized = GridSearchCV(pipes['bernoulliNB'], parameters, n_jobs=3)\n",
    "    parametrized.fit(paths_df.path,paths_df.label)\n",
    "    print(parametrized.best_score_, parametrized.best_params_)\n",
    "\n",
    "    pipes['optimizedbernoulliNB'] = Pipeline([\n",
    "          ('vect', TfidfVectorizer(input='filename', binary=True, **extract_params(parametrized.best_params_))),\n",
    "          ('dense', DenseTransformer()),\n",
    "          ('gnb', BernoulliNB())\n",
    "        ])\n",
    "    print(\"It took: \" + str(time.time() - t0) + \" to run bernoulli NB pipeline\")\n",
    "run_bernoulli_NB_pipeline()"
   ]
  },
  {
   "cell_type": "code",
   "execution_count": 16,
   "metadata": {},
   "outputs": [
    {
     "name": "stdout",
     "output_type": "stream",
     "text": [
      "0.772727272727 {'vect__norm': 'l2', 'vect__ngram_range': (1, 1), 'vect__stop_words': 'english', 'vect__sublinear_tf': False, 'vect__tokenizer': <function tokenizer at 0x7f90a4175bf8>, 'vect__use_idf': True}\n",
      "It took: 54.66628837585449 to run multinomial NB pipeline\n"
     ]
    }
   ],
   "source": [
    "\n",
    "def run_multinomial_NB_pipeline():\n",
    "    t0 = time.time()\n",
    "\n",
    "    parametrized = GridSearchCV(pipes['multinomialNB'], parameters, n_jobs=3)\n",
    "    parametrized.fit(paths_df.path,paths_df.label)\n",
    "    print(parametrized.best_score_, parametrized.best_params_)\n",
    "\n",
    "    pipes['optimizedmultinomialNB'] = Pipeline([\n",
    "          ('vect', TfidfVectorizer(input='filename', **extract_params(parametrized.best_params_))),\n",
    "          ( 'gnb', MultinomialNB())\n",
    "        ])\n",
    "    print(\"It took: \" + str(time.time() - t0) + \" to run multinomial NB pipeline\")\n",
    "run_multinomial_NB_pipeline()"
   ]
  },
  {
   "cell_type": "code",
   "execution_count": 17,
   "metadata": {},
   "outputs": [
    {
     "name": "stdout",
     "output_type": "stream",
     "text": [
      "0.818181818182 {'vect__norm': 'l1', 'vect__ngram_range': (1, 2), 'vect__stop_words': 'english', 'vect__sublinear_tf': True, 'vect__tokenizer': None, 'vect__use_idf': True}\n",
      "It took: 170.41673851013184 to run linear SVC pipeline\n"
     ]
    }
   ],
   "source": [
    "\n",
    "def run_linearSVC_pipeline():\n",
    "    t0 = time.time()\n",
    "    parametrized = GridSearchCV(pipes['linearSVC'], parameters, n_jobs=1)\n",
    "    parametrized.fit(paths_df.path,paths_df.label)\n",
    "    print(parametrized.best_score_, parametrized.best_params_)\n",
    "\n",
    "    pipes['optimizedlinearSVC'] = Pipeline([\n",
    "          ('vect', TfidfVectorizer(input='filename', **extract_params(parametrized.best_params_))),\n",
    "          ('gnb', LinearSVC())\n",
    "        ])\n",
    "    print(\"It took: \" + str(time.time() - t0) + \" to run linear SVC pipeline\")\n",
    "run_linearSVC_pipeline()"
   ]
  },
  {
   "cell_type": "code",
   "execution_count": 18,
   "metadata": {},
   "outputs": [
    {
     "name": "stdout",
     "output_type": "stream",
     "text": [
      "0.818181818182 {'vect__norm': 'l1', 'vect__ngram_range': (1, 2), 'vect__stop_words': 'english', 'vect__sublinear_tf': True, 'vect__tokenizer': None, 'vect__use_idf': True}\n",
      "0.863636363636 {'vect__norm': 'l1', 'vect__ngram_range': (1, 1), 'vect__stop_words': 'english', 'vect__sublinear_tf': True, 'vect__tokenizer': None, 'vect__use_idf': True}\n",
      "It took: 149.66648292541504 to run SGD classifier pipeline\n"
     ]
    },
    {
     "name": "stderr",
     "output_type": "stream",
     "text": [
      "/home/joao4018/machine/lib/python3.5/site-packages/sklearn/linear_model/stochastic_gradient.py:84: FutureWarning: max_iter and tol parameters have been added in <class 'sklearn.linear_model.stochastic_gradient.SGDClassifier'> in 0.19. If both are left unset, they default to max_iter=5 and tol=None. If tol is not None, max_iter defaults to max_iter=1000. From 0.21, default max_iter will be 1000, and default tol will be 1e-3.\n",
      "  \"and default tol will be 1e-3.\" % type(self), FutureWarning)\n"
     ]
    }
   ],
   "source": [
    "\n",
    "def run_sgdclassifier_pipeline():\n",
    "    t0 = time.time()\n",
    "\n",
    "    parametrized = GridSearchCV(pipes['linearSVC'], parameters, n_jobs=3)\n",
    "    parametrized.fit(paths_df.path,paths_df.label)\n",
    "    print(parametrized.best_score_, parametrized.best_params_)\n",
    "\n",
    "    pipes['optimizedlinearSVC'] = Pipeline([\n",
    "          ('vect', TfidfVectorizer(input='filename', **extract_params(parametrized.best_params_))),\n",
    "          ('gnb', LinearSVC())\n",
    "        ])\n",
    "    parametrized = GridSearchCV(pipes['sgdclassifier'], parameters, n_jobs=3)\n",
    "    parametrized.fit(paths_df.path,paths_df.label)\n",
    "    print(parametrized.best_score_, parametrized.best_params_)\n",
    "\n",
    "    pipes['optimizedsgdclassifier'] = Pipeline([\n",
    "          ('vect', TfidfVectorizer(input='filename', **extract_params(parametrized.best_params_))),\n",
    "          ('gnb', SGDClassifier())\n",
    "        ])\n",
    "\n",
    "    print(\"It took: \" + str(time.time() - t0) + \" to run SGD classifier pipeline\")\n",
    "run_sgdclassifier_pipeline()"
   ]
  },
  {
   "cell_type": "markdown",
   "metadata": {},
   "source": [
    "### Treinamento dos dados do *pipeline*\n",
    "\n",
    "Método para o treinamento dos dados tratados da *pipeline* utilizando a biblioteca pandas para as operações com *arrays* "
   ]
  },
  {
   "cell_type": "code",
   "execution_count": 25,
   "metadata": {},
   "outputs": [
    {
     "name": "stdout",
     "output_type": "stream",
     "text": [
      "It took: 18.724443197250366 to mount and train\n"
     ]
    }
   ],
   "source": [
    "def mount_and_train():\n",
    "    t0 = time.time()\n",
    "    # Execute each pipe in dictionary pipes doing    # a score with test and train bases\n",
    "    # Variate the size of test and train bases\n",
    "    index = [x/10.0 for x in range(1,8)]\n",
    "    global df\n",
    "    df = pandas.DataFrame(index=index)\n",
    "    for pipe_name, pipe in pipes.items():\n",
    "        temp = []\n",
    "        for l in range(1,8):\n",
    "            # Split into train and test\n",
    "            # X - Train, Y - Train\n",
    "            # x - test, y - test\n",
    "            X, x, Y, y = train_test_split(\n",
    "                paths_df.path, paths_df.label, test_size=l/10.0, random_state=0\n",
    "            )\n",
    "            pipe.fit(X,Y)\n",
    "            temp.append([pipe.score(X,Y), pipe.score(x,y)])\n",
    "        columns = [\"train_{}\".format(pipe_name), \"test_{}\".format(pipe_name)]\n",
    "        new_df = pandas.DataFrame(temp, columns=columns, index=index)\n",
    "        df = df.join(new_df)\n",
    "    print(\"It took: \" + str(time.time() - t0) + \" to mount and train\")\n",
    "mount_and_train()"
   ]
  },
  {
   "cell_type": "markdown",
   "metadata": {},
   "source": [
    "### Gráficos\n",
    "\n",
    "Demonstração de gráficos utilizando a biblioteca pyplot. Foi feita a geração dos dados obtidos em todas as etapas da *pipeline* junto com suas pontuações."
   ]
  },
  {
   "cell_type": "code",
   "execution_count": 23,
   "metadata": {},
   "outputs": [
    {
     "name": "stdout",
     "output_type": "stream",
     "text": [
      "     train_optimizedbernoulliNB  test_optimizedbernoulliNB  \\\n",
      "0.4                    1.000000                   0.333333   \n",
      "0.6                    1.000000                   0.500000   \n",
      "0.1                    0.894737                   0.333333   \n",
      "0.5                    1.000000                   0.363636   \n",
      "0.2                    0.941176                   0.400000   \n",
      "0.7                    1.000000                   0.500000   \n",
      "0.4                    1.000000                   0.333333   \n",
      "0.6                    1.000000                   0.500000   \n",
      "0.1                    0.894737                   0.333333   \n",
      "0.1                    0.894737                   0.333333   \n",
      "0.1                    0.894737                   0.333333   \n",
      "0.6                    1.000000                   0.500000   \n",
      "0.1                    0.894737                   0.333333   \n",
      "0.1                    0.894737                   0.333333   \n",
      "0.1                    0.894737                   0.333333   \n",
      "0.3                    0.933333                   0.285714   \n",
      "0.6                    1.000000                   0.500000   \n",
      "0.6                    1.000000                   0.500000   \n",
      "0.1                    0.894737                   0.333333   \n",
      "0.3                    0.933333                   0.285714   \n",
      "\n",
      "     train_optimizedsgdclassifier  test_optimizedsgdclassifier  \\\n",
      "0.4                           1.0                     0.555556   \n",
      "0.6                           1.0                     0.571429   \n",
      "0.1                           1.0                     0.333333   \n",
      "0.5                           1.0                     0.636364   \n",
      "0.2                           1.0                     0.600000   \n",
      "0.7                           1.0                     0.562500   \n",
      "0.4                           1.0                     0.555556   \n",
      "0.6                           1.0                     0.571429   \n",
      "0.1                           1.0                     0.333333   \n",
      "0.1                           1.0                     0.333333   \n",
      "0.1                           1.0                     0.333333   \n",
      "0.6                           1.0                     0.571429   \n",
      "0.1                           1.0                     0.333333   \n",
      "0.1                           1.0                     0.333333   \n",
      "0.1                           1.0                     0.333333   \n",
      "0.3                           1.0                     0.571429   \n",
      "0.6                           1.0                     0.571429   \n",
      "0.6                           1.0                     0.571429   \n",
      "0.1                           1.0                     0.333333   \n",
      "0.3                           1.0                     0.571429   \n",
      "\n",
      "     train_optimizedmultinomialNB  test_optimizedmultinomialNB  \\\n",
      "0.4                      1.000000                     0.333333   \n",
      "0.6                      0.875000                     0.500000   \n",
      "0.1                      0.947368                     0.333333   \n",
      "0.5                      1.000000                     0.363636   \n",
      "0.2                      1.000000                     0.400000   \n",
      "0.7                      1.000000                     0.687500   \n",
      "0.4                      1.000000                     0.333333   \n",
      "0.6                      0.875000                     0.500000   \n",
      "0.1                      0.947368                     0.333333   \n",
      "0.1                      0.947368                     0.333333   \n",
      "0.1                      0.947368                     0.333333   \n",
      "0.6                      0.875000                     0.500000   \n",
      "0.1                      0.947368                     0.333333   \n",
      "0.1                      0.947368                     0.333333   \n",
      "0.1                      0.947368                     0.333333   \n",
      "0.3                      1.000000                     0.285714   \n",
      "0.6                      0.875000                     0.500000   \n",
      "0.6                      0.875000                     0.500000   \n",
      "0.1                      0.947368                     0.333333   \n",
      "0.3                      1.000000                     0.285714   \n",
      "\n",
      "     train_bernoulliNB  test_bernoulliNB  train_sgdclassifier  \\\n",
      "0.4           1.000000          0.333333                  1.0   \n",
      "0.6           1.000000          0.500000                  1.0   \n",
      "0.1           0.894737          0.333333                  1.0   \n",
      "0.5           1.000000          0.363636                  1.0   \n",
      "0.2           0.941176          0.400000                  1.0   \n",
      "0.7           1.000000          0.500000                  1.0   \n",
      "0.4           1.000000          0.333333                  1.0   \n",
      "0.6           1.000000          0.500000                  1.0   \n",
      "0.1           0.894737          0.333333                  1.0   \n",
      "0.1           0.894737          0.333333                  1.0   \n",
      "0.1           0.894737          0.333333                  1.0   \n",
      "0.6           1.000000          0.500000                  1.0   \n",
      "0.1           0.894737          0.333333                  1.0   \n",
      "0.1           0.894737          0.333333                  1.0   \n",
      "0.1           0.894737          0.333333                  1.0   \n",
      "0.3           0.933333          0.285714                  1.0   \n",
      "0.6           1.000000          0.500000                  1.0   \n",
      "0.6           1.000000          0.500000                  1.0   \n",
      "0.1           0.894737          0.333333                  1.0   \n",
      "0.3           0.933333          0.285714                  1.0   \n",
      "\n",
      "     test_sgdclassifier  train_linearSVC  test_linearSVC  train_multinomialNB  \\\n",
      "0.4            0.444444              1.0        0.333333             0.923077   \n",
      "0.6            0.500000              1.0        0.642857             1.000000   \n",
      "0.1            0.666667              1.0        0.333333             1.000000   \n",
      "0.5            0.454545              1.0        0.545455             0.818182   \n",
      "0.2            0.400000              1.0        0.600000             1.000000   \n",
      "0.7            0.500000              1.0        0.625000             1.000000   \n",
      "0.4            0.444444              1.0        0.333333             0.923077   \n",
      "0.6            0.500000              1.0        0.642857             1.000000   \n",
      "0.1            0.666667              1.0        0.333333             1.000000   \n",
      "0.1            0.666667              1.0        0.333333             1.000000   \n",
      "0.1            0.666667              1.0        0.333333             1.000000   \n",
      "0.6            0.500000              1.0        0.642857             1.000000   \n",
      "0.1            0.666667              1.0        0.333333             1.000000   \n",
      "0.1            0.666667              1.0        0.333333             1.000000   \n",
      "0.1            0.666667              1.0        0.333333             1.000000   \n",
      "0.3            0.428571              1.0        0.428571             1.000000   \n",
      "0.6            0.500000              1.0        0.642857             1.000000   \n",
      "0.6            0.500000              1.0        0.642857             1.000000   \n",
      "0.1            0.666667              1.0        0.333333             1.000000   \n",
      "0.3            0.428571              1.0        0.428571             1.000000   \n",
      "\n",
      "     test_multinomialNB  train_gaussianNB  test_gaussianNB  \\\n",
      "0.4            0.333333               1.0         0.666667   \n",
      "0.6            0.571429               1.0         0.571429   \n",
      "0.1            0.666667               1.0         0.666667   \n",
      "0.5            0.363636               1.0         0.727273   \n",
      "0.2            0.400000               1.0         0.600000   \n",
      "0.7            0.562500               1.0         0.500000   \n",
      "0.4            0.333333               1.0         0.666667   \n",
      "0.6            0.571429               1.0         0.571429   \n",
      "0.1            0.666667               1.0         0.666667   \n",
      "0.1            0.666667               1.0         0.666667   \n",
      "0.1            0.666667               1.0         0.666667   \n",
      "0.6            0.571429               1.0         0.571429   \n",
      "0.1            0.666667               1.0         0.666667   \n",
      "0.1            0.666667               1.0         0.666667   \n",
      "0.1            0.666667               1.0         0.666667   \n",
      "0.3            0.285714               1.0         0.857143   \n",
      "0.6            0.571429               1.0         0.571429   \n",
      "0.6            0.571429               1.0         0.571429   \n",
      "0.1            0.666667               1.0         0.666667   \n",
      "0.3            0.285714               1.0         0.857143   \n",
      "\n",
      "     train_optimizedlinearSVC  test_optimizedlinearSVC  \\\n",
      "0.4                  0.615385                 0.333333   \n",
      "0.6                  1.000000                 0.571429   \n",
      "0.1                  0.526316                 0.333333   \n",
      "0.5                  0.636364                 0.363636   \n",
      "0.2                  0.529412                 0.400000   \n",
      "0.7                  1.000000                 0.562500   \n",
      "0.4                  0.615385                 0.333333   \n",
      "0.6                  1.000000                 0.571429   \n",
      "0.1                  0.526316                 0.333333   \n",
      "0.1                  0.526316                 0.333333   \n",
      "0.1                  0.526316                 0.333333   \n",
      "0.6                  1.000000                 0.571429   \n",
      "0.1                  0.526316                 0.333333   \n",
      "0.1                  0.526316                 0.333333   \n",
      "0.1                  0.526316                 0.333333   \n",
      "0.3                  0.600000                 0.285714   \n",
      "0.6                  1.000000                 0.571429   \n",
      "0.6                  1.000000                 0.571429   \n",
      "0.1                  0.526316                 0.333333   \n",
      "0.3                  0.600000                 0.285714   \n",
      "\n",
      "     train_optimizedgaussianNB  test_optimizedgaussianNB  \n",
      "0.4                        1.0                  0.555556  \n",
      "0.6                        1.0                  0.571429  \n",
      "0.1                        1.0                  0.666667  \n",
      "0.5                        1.0                  0.636364  \n",
      "0.2                        1.0                  0.800000  \n",
      "0.7                        1.0                  0.562500  \n",
      "0.4                        1.0                  0.555556  \n",
      "0.6                        1.0                  0.571429  \n",
      "0.1                        1.0                  0.666667  \n",
      "0.1                        1.0                  0.666667  \n",
      "0.1                        1.0                  0.666667  \n",
      "0.6                        1.0                  0.571429  \n",
      "0.1                        1.0                  0.666667  \n",
      "0.1                        1.0                  0.666667  \n",
      "0.1                        1.0                  0.666667  \n",
      "0.3                        1.0                  0.857143  \n",
      "0.6                        1.0                  0.571429  \n",
      "0.6                        1.0                  0.571429  \n",
      "0.1                        1.0                  0.666667  \n",
      "0.3                        1.0                  0.857143  \n"
     ]
    },
    {
     "data": {
      "image/png": "[encoded data removed]",
      "text/plain": [
       "<matplotlib.figure.Figure at 0x7f90915f50f0>"
      ]
     },
     "metadata": {},
     "output_type": "display_data"
    },
    {
     "data": {
      "image/png": "[encoded data removed]",
      "text/plain": [
       "<matplotlib.figure.Figure at 0x7f90916c37b8>"
      ]
     },
     "metadata": {},
     "output_type": "display_data"
    },
    {
     "name": "stdout",
     "output_type": "stream",
     "text": [
      "It took: 3.8267462253570557 to plot graphs\n"
     ]
    }
   ],
   "source": [
    "def plot_all():\n",
    "    t0 = time.time()\n",
    "    # Plot all\n",
    "    pyplot.figure(2)\n",
    "\n",
    "    pyplot.subplot(221)\n",
    "    pyplot.title('Gaussian NB')\n",
    "    pyplot.plot(df.train_gaussianNB)\n",
    "    pyplot.plot(df.test_gaussianNB)\n",
    "    pyplot.plot(df.test_optimizedgaussianNB, 'r--')\n",
    "    pyplot.ylabel(\"Score\")\n",
    "    pyplot.xlabel(\"% size train base\")\n",
    "\n",
    "    pyplot.subplot(222)\n",
    "    pyplot.title('BernoulliNB')\n",
    "    pyplot.plot(df.train_bernoulliNB)\n",
    "    pyplot.plot(df.test_bernoulliNB)\n",
    "    pyplot.plot(df.test_optimizedbernoulliNB, 'r--')\n",
    "    pyplot.ylabel(\"Score\")\n",
    "    pyplot.xlabel(\"% size train base\")\n",
    "\n",
    "\n",
    "    pyplot.subplot(223)\n",
    "    pyplot.title('MultinomialNB')\n",
    "    pyplot.plot(df.train_multinomialNB)\n",
    "    pyplot.plot(df.test_multinomialNB)\n",
    "    pyplot.plot(df.test_optimizedmultinomialNB, 'r--')\n",
    "    pyplot.ylabel(\"Score\")\n",
    "    pyplot.xlabel(\"% size train base\")\n",
    "\n",
    "    pyplot.figure(3)\n",
    "    pyplot.subplot(222)\n",
    "    pyplot.title('LinearSVC')\n",
    "    pyplot.plot(df.train_linearSVC)\n",
    "    pyplot.plot(df.test_linearSVC)\n",
    "    pyplot.plot(df.test_optimizedlinearSVC, 'r--')\n",
    "    pyplot.ylabel(\"Score\")\n",
    "    pyplot.xlabel(\"% size train base\")\n",
    "\n",
    "\n",
    "    pyplot.subplot(221)\n",
    "    pyplot.title('SGDClassifier')\n",
    "    pyplot.plot(df.train_sgdclassifier)\n",
    "    pyplot.plot(df.test_sgdclassifier)\n",
    "    pyplot.plot(df.test_optimizedsgdclassifier, 'r--')\n",
    "    pyplot.ylabel(\"Score\")\n",
    "    pyplot.xlabel(\"% size train base\")\n",
    "    pyplot.subplots_adjust(top=0.92, bottom=0.08, left=0.10, right=0.95, hspace=0.25,\n",
    "                        wspace=0.35)\n",
    "    print(df.ix[df.idxmax()])\n",
    "\n",
    "    pyplot.show()\n",
    "    print(\"It took: \" + str(time.time() - t0) + \" to plot graphs\")\n",
    "plot_all()"
   ]
  }
 ],
 "metadata": {
  "kernelspec": {
   "display_name": "Python 3",
   "language": "python",
   "name": "python3"
  },
  "language_info": {
   "codemirror_mode": {
    "name": "ipython",
    "version": 3
   },
   "file_extension": ".py",
   "mimetype": "text/x-python",
   "name": "python",
   "nbconvert_exporter": "python",
   "pygments_lexer": "ipython3",
   "version": "3.5.2"
  }
 },
 "nbformat": 4,
 "nbformat_minor": 2
}
